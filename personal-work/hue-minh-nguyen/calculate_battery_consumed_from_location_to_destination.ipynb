{
  "nbformat": 4,
  "nbformat_minor": 0,
  "metadata": {
    "colab": {
      "provenance": []
    },
    "kernelspec": {
      "name": "python3",
      "display_name": "Python 3"
    },
    "language_info": {
      "name": "python"
    }
  },
  "cells": [
    {
      "cell_type": "markdown",
      "source": [
        "# Calculate battery consumed from location to destination\n",
        "\n",
        "<p>Deakin University</p>\n",
        "<p>Company: Chameleon</p>\n",
        "<p>Project: EV Adoption Tools</p>\n",
        "<p>Team: Data Science</p>\n",
        "<br/>\n",
        "<p>Author: Hue Minh Nguyen (Milly Nguyen)</p>\n",
        "<p>Task description: Given a Origin, Destination, Max range, battery size, calculate the amount of energy (battery) consumed going from Origin to Destination <p/>\n",
        "<br/>\n",
        "<p>Proposed solutions:</p>\n",
        "<ul>\n",
        "<li>1. Calculate the distance between origin and destination using Google Map API</li>\n",
        "<li>2. Calculate enerygy consumption rate in kWh/km using given max_range and battery_size</li>\n",
        "<li>3. Calculate possible enerygy consumed to drive from origin to destination</li>\n",
        "<li>4. Calculate the amount of energy consumed in % from origin to destination</li>\n",
        "</ul>\n",
        "\n"
      ],
      "metadata": {
        "id": "jm25qA3lzDgn"
      }
    },
    {
      "cell_type": "code",
      "source": [
        "!pip install googlemaps"
      ],
      "metadata": {
        "id": "qFr4OP3QyGPy"
      },
      "execution_count": null,
      "outputs": []
    },
    {
      "cell_type": "markdown",
      "source": [
        "#### Calculate the distance between the origin and the destination"
      ],
      "metadata": {
        "id": "o6c4XM456uMC"
      }
    },
    {
      "cell_type": "code",
      "source": [
        "# importing googlemaps module\n",
        "import googlemaps\n",
        "\n",
        "def calculate_distance_between_origin_to_destination_in_km(origin, destination):\n",
        "  # Requires API key\n",
        "  gmaps = googlemaps.Client(key='API_KEY')\n",
        "\n",
        "  # Fetch data from Google Map\n",
        "  my_dist = gmaps.distance_matrix(origin, destination)['rows'][0]['elements'][0]\n",
        "\n",
        "  # Value in km\n",
        "  outcome = my_dist[\"distance\"][\"value\"] / 1000\n",
        "  print(\"Distance between \", origin, \" and \", destination, \" (km): \", outcome)\n",
        "\n",
        "  return outcome"
      ],
      "metadata": {
        "id": "8kR6nS2rwNfl"
      },
      "execution_count": 31,
      "outputs": []
    },
    {
      "cell_type": "markdown",
      "source": [
        "#### Calculate the battery consumed from location to destination"
      ],
      "metadata": {
        "id": "FtFvXGBr63NZ"
      }
    },
    {
      "cell_type": "code",
      "execution_count": 30,
      "metadata": {
        "id": "xC1wq8O-l2Bp"
      },
      "outputs": [],
      "source": [
        "def calculate_battery_consumed_from_location_to_destination (origin, destination, max_range, battery_size):\n",
        "  # calculate distance between origin and the destination (km)\n",
        "  distance = calculate_distance_between_origin_to_destination_in_km(origin, destination)\n",
        "\n",
        "  # calculate energy consumption rate (kWh/km)\n",
        "  energy_consumption_rate = battery_size / max_range\n",
        "  print(\"Energy consumtion rate (kWh/km): \", round(energy_consumption_rate, 2))\n",
        "\n",
        "  # calculate possible needed energy (kW)\n",
        "  consumed_energy = energy_consumption_rate * distance\n",
        "  print(\"Possible consumed energy (kWh): \", round(consumed_energy, 2))\n",
        "\n",
        "  # calculate % enerygy consumed\n",
        "  percent_consumed_energy = consumed_energy / battery_size * 100\n",
        "  print(\"% energy consumed: \", round(percent_consumed_energy, 2), \"%\")\n",
        "  return percent_consumed_energy\n"
      ]
    },
    {
      "cell_type": "markdown",
      "source": [
        "#### Example"
      ],
      "metadata": {
        "id": "XYw0v5wi_RBz"
      }
    },
    {
      "cell_type": "code",
      "source": [
        "origin = 'Deakin University Melbourne Burwood Campus'\n",
        "destination = 'Deakin University Geelong Waterfront Campus, 1 Gheringhap St, Geelong VIC 3220'\n",
        "tesla_model_s = {\n",
        "  \"battery_size\": 100,\n",
        "  \"max_range\":\t637\n",
        "}\n",
        "\n",
        "calculate_battery_consumed_from_location_to_destination(origin, destination, tesla_model_s[\"max_range\"], tesla_model_s[\"battery_size\"])"
      ],
      "metadata": {
        "colab": {
          "base_uri": "https://localhost:8080/"
        },
        "id": "_6jVTgFf_Suc",
        "outputId": "3a916634-a784-4657-abb8-26ca4086248c"
      },
      "execution_count": 32,
      "outputs": [
        {
          "output_type": "stream",
          "name": "stdout",
          "text": [
            "Distance between  Deakin University Melbourne Burwood Campus  and  Deakin University Geelong Waterfront Campus, 1 Gheringhap St, Geelong VIC 3220  (km):  87.312\n",
            "Energy consumtion rate (kWh/km):  0.16\n",
            "Possible consumed energy (kWh):  13.71\n",
            "% energy consumed:  13.71 %\n"
          ]
        },
        {
          "output_type": "execute_result",
          "data": {
            "text/plain": [
              "13.706750392464679"
            ]
          },
          "metadata": {},
          "execution_count": 32
        }
      ]
    }
  ]
}